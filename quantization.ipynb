{
 "cells": [
  {
   "cell_type": "code",
   "execution_count": 2,
   "id": "98e25b2e",
   "metadata": {},
   "outputs": [],
   "source": [
    "import os\n",
    "import tensorflow as tf\n",
    "import tensorflow.keras as Keras"
   ]
  },
  {
   "cell_type": "code",
   "execution_count": 7,
   "id": "2fa905b3",
   "metadata": {},
   "outputs": [],
   "source": [
    "model_path = \"models\"\n",
    "lite_model_path = \"models_lite\""
   ]
  },
  {
   "cell_type": "code",
   "execution_count": 6,
   "id": "906f63a9",
   "metadata": {},
   "outputs": [
    {
     "data": {
      "text/plain": [
       "2"
      ]
     },
     "execution_count": 6,
     "metadata": {},
     "output_type": "execute_result"
    }
   ],
   "source": [
    "latest_version = max([int(i) for i in os.listdir(model_path)])\n",
    "latest_version"
   ]
  },
  {
   "cell_type": "code",
   "execution_count": 9,
   "id": "e8afc655",
   "metadata": {},
   "outputs": [
    {
     "data": {
      "text/plain": [
       "24516016"
      ]
     },
     "execution_count": 9,
     "metadata": {},
     "output_type": "execute_result"
    }
   ],
   "source": [
    "converter = tf.lite.TFLiteConverter.from_saved_model(os.path.join(model_path, str(latest_version)))\n",
    "\n",
    "converter.optimizations = [tf.lite.Optimize.DEFAULT]\n",
    "\n",
    "q_lite_model = converter.convert()\n",
    "\n",
    "len(q_lite_model)"
   ]
  },
  {
   "cell_type": "code",
   "execution_count": 12,
   "id": "00ab1b1d",
   "metadata": {},
   "outputs": [],
   "source": [
    "if not os.path.exists(lite_model_path):\n",
    "    os.mkdir(lite_model_path)\n",
    "\n",
    "with open(os.path.join(lite_model_path, f\"{latest_version}.tflite\"), \"wb\") as f:\n",
    "    f.write(q_lite_model)"
   ]
  },
  {
   "cell_type": "code",
   "execution_count": null,
   "id": "de82b203",
   "metadata": {},
   "outputs": [],
   "source": []
  }
 ],
 "metadata": {
  "kernelspec": {
   "display_name": "Python 3 (ipykernel)",
   "language": "python",
   "name": "python3"
  },
  "language_info": {
   "codemirror_mode": {
    "name": "ipython",
    "version": 3
   },
   "file_extension": ".py",
   "mimetype": "text/x-python",
   "name": "python",
   "nbconvert_exporter": "python",
   "pygments_lexer": "ipython3",
   "version": "3.10.5"
  }
 },
 "nbformat": 4,
 "nbformat_minor": 5
}
