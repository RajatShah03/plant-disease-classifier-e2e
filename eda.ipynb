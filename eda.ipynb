{
 "cells": [
  {
   "cell_type": "code",
   "execution_count": 16,
   "id": "744381aa",
   "metadata": {},
   "outputs": [],
   "source": [
    "import os\n",
    "import numpy as np\n",
    "import pandas as pd\n",
    "import matplotlib.pyplot as plt\n",
    "import seaborn as sns"
   ]
  },
  {
   "cell_type": "code",
   "execution_count": 2,
   "id": "9e1b03e0",
   "metadata": {},
   "outputs": [],
   "source": [
    "dataset_path = \"data\""
   ]
  },
  {
   "cell_type": "code",
   "execution_count": 3,
   "id": "d512bd3f",
   "metadata": {},
   "outputs": [
    {
     "data": {
      "text/plain": [
       "['Pepper__bell___Bacterial_spot',\n",
       " 'Pepper__bell___healthy',\n",
       " 'Potato___Early_blight',\n",
       " 'Potato___healthy',\n",
       " 'Potato___Late_blight',\n",
       " 'Tomato_Bacterial_spot',\n",
       " 'Tomato_Early_blight',\n",
       " 'Tomato_healthy',\n",
       " 'Tomato_Late_blight',\n",
       " 'Tomato_Leaf_Mold',\n",
       " 'Tomato_Septoria_leaf_spot',\n",
       " 'Tomato_Spider_mites_Two_spotted_spider_mite',\n",
       " 'Tomato__Target_Spot',\n",
       " 'Tomato__Tomato_mosaic_virus',\n",
       " 'Tomato__Tomato_YellowLeaf__Curl_Virus']"
      ]
     },
     "execution_count": 3,
     "metadata": {},
     "output_type": "execute_result"
    }
   ],
   "source": [
    "categories = os.listdir(dataset_path)\n",
    "categories"
   ]
  },
  {
   "cell_type": "code",
   "execution_count": 5,
   "id": "16798126",
   "metadata": {},
   "outputs": [
    {
     "data": {
      "text/plain": [
       "'Pepper'"
      ]
     },
     "execution_count": 5,
     "metadata": {},
     "output_type": "execute_result"
    }
   ],
   "source": [
    "'Pepper__bell___Bacterial_spot'.split(\"_\")[0]"
   ]
  },
  {
   "cell_type": "code",
   "execution_count": 7,
   "id": "c2dd01fd",
   "metadata": {},
   "outputs": [
    {
     "data": {
      "text/plain": [
       "{'Pepper': 2, 'Potato': 3, 'Tomato': 10}"
      ]
     },
     "execution_count": 7,
     "metadata": {},
     "output_type": "execute_result"
    }
   ],
   "source": [
    "type_count = {}\n",
    "\n",
    "for cat in categories:\n",
    "    t = cat.split(\"_\")[0]\n",
    "    if t not in type_count:\n",
    "        type_count[t] = 0\n",
    "    type_count[t] += 1\n",
    "\n",
    "type_count"
   ]
  },
  {
   "cell_type": "code",
   "execution_count": 9,
   "id": "90f3ef08",
   "metadata": {},
   "outputs": [
    {
     "data": {
      "text/plain": [
       "{'Pepper__bell___Bacterial_spot': 997,\n",
       " 'Pepper__bell___healthy': 1478,\n",
       " 'Potato___Early_blight': 1000,\n",
       " 'Potato___healthy': 152,\n",
       " 'Potato___Late_blight': 1000,\n",
       " 'Tomato_Bacterial_spot': 2127,\n",
       " 'Tomato_Early_blight': 1000,\n",
       " 'Tomato_healthy': 1591,\n",
       " 'Tomato_Late_blight': 1909,\n",
       " 'Tomato_Leaf_Mold': 952,\n",
       " 'Tomato_Septoria_leaf_spot': 1771,\n",
       " 'Tomato_Spider_mites_Two_spotted_spider_mite': 1676,\n",
       " 'Tomato__Target_Spot': 1404,\n",
       " 'Tomato__Tomato_mosaic_virus': 373,\n",
       " 'Tomato__Tomato_YellowLeaf__Curl_Virus': 3209}"
      ]
     },
     "execution_count": 9,
     "metadata": {},
     "output_type": "execute_result"
    }
   ],
   "source": [
    "class_type_count = {}\n",
    "\n",
    "for dir_name in categories:\n",
    "    file_count = len(os.listdir(os.path.join(dataset_path, dir_name)))\n",
    "    class_type_count[dir_name] = file_count\n",
    "\n",
    "class_type_count"
   ]
  },
  {
   "cell_type": "code",
   "execution_count": 60,
   "id": "cbbea551",
   "metadata": {},
   "outputs": [
    {
     "data": {
      "text/plain": [
       "{'label': ['Pepper__bell___Bacterial_spot',\n",
       "  'Pepper__bell___healthy',\n",
       "  'Potato___Early_blight',\n",
       "  'Potato___healthy',\n",
       "  'Potato___Late_blight',\n",
       "  'Tomato_Bacterial_spot',\n",
       "  'Tomato_Early_blight',\n",
       "  'Tomato_healthy',\n",
       "  'Tomato_Late_blight',\n",
       "  'Tomato_Leaf_Mold',\n",
       "  'Tomato_Septoria_leaf_spot',\n",
       "  'Tomato_Spider_mites_Two_spotted_spider_mite',\n",
       "  'Tomato__Target_Spot',\n",
       "  'Tomato__Tomato_mosaic_virus',\n",
       "  'Tomato__Tomato_YellowLeaf__Curl_Virus'],\n",
       " 'count': [997,\n",
       "  1478,\n",
       "  1000,\n",
       "  152,\n",
       "  1000,\n",
       "  2127,\n",
       "  1000,\n",
       "  1591,\n",
       "  1909,\n",
       "  952,\n",
       "  1771,\n",
       "  1676,\n",
       "  1404,\n",
       "  373,\n",
       "  3209]}"
      ]
     },
     "execution_count": 60,
     "metadata": {},
     "output_type": "execute_result"
    }
   ],
   "source": [
    "data_count = {\"label\": [], \"count\": []}\n",
    "\n",
    "for c, n in class_type_count.items():\n",
    "    data_count[\"label\"].append(c)\n",
    "    data_count[\"count\"].append(n)\n",
    "\n",
    "data_count"
   ]
  },
  {
   "cell_type": "code",
   "execution_count": 63,
   "id": "67df7a1a",
   "metadata": {},
   "outputs": [
    {
     "data": {
      "text/html": [
       "<div>\n",
       "<style scoped>\n",
       "    .dataframe tbody tr th:only-of-type {\n",
       "        vertical-align: middle;\n",
       "    }\n",
       "\n",
       "    .dataframe tbody tr th {\n",
       "        vertical-align: top;\n",
       "    }\n",
       "\n",
       "    .dataframe thead th {\n",
       "        text-align: right;\n",
       "    }\n",
       "</style>\n",
       "<table border=\"1\" class=\"dataframe\">\n",
       "  <thead>\n",
       "    <tr style=\"text-align: right;\">\n",
       "      <th></th>\n",
       "      <th>label</th>\n",
       "      <th>count</th>\n",
       "      <th>type</th>\n",
       "      <th>disease</th>\n",
       "    </tr>\n",
       "  </thead>\n",
       "  <tbody>\n",
       "    <tr>\n",
       "      <th>0</th>\n",
       "      <td>Pepper__bell___Bacterial_spot</td>\n",
       "      <td>997</td>\n",
       "      <td>Pepper</td>\n",
       "      <td>Bacterial_spot</td>\n",
       "    </tr>\n",
       "    <tr>\n",
       "      <th>1</th>\n",
       "      <td>Pepper__bell___healthy</td>\n",
       "      <td>1478</td>\n",
       "      <td>Pepper</td>\n",
       "      <td>healthy</td>\n",
       "    </tr>\n",
       "    <tr>\n",
       "      <th>2</th>\n",
       "      <td>Potato___Early_blight</td>\n",
       "      <td>1000</td>\n",
       "      <td>Potato</td>\n",
       "      <td>Early_blight</td>\n",
       "    </tr>\n",
       "    <tr>\n",
       "      <th>3</th>\n",
       "      <td>Potato___healthy</td>\n",
       "      <td>152</td>\n",
       "      <td>Potato</td>\n",
       "      <td>healthy</td>\n",
       "    </tr>\n",
       "    <tr>\n",
       "      <th>4</th>\n",
       "      <td>Potato___Late_blight</td>\n",
       "      <td>1000</td>\n",
       "      <td>Potato</td>\n",
       "      <td>Late_blight</td>\n",
       "    </tr>\n",
       "    <tr>\n",
       "      <th>5</th>\n",
       "      <td>Tomato_Bacterial_spot</td>\n",
       "      <td>2127</td>\n",
       "      <td>Tomato</td>\n",
       "      <td>Bacterial_spot</td>\n",
       "    </tr>\n",
       "    <tr>\n",
       "      <th>6</th>\n",
       "      <td>Tomato_Early_blight</td>\n",
       "      <td>1000</td>\n",
       "      <td>Tomato</td>\n",
       "      <td>Early_blight</td>\n",
       "    </tr>\n",
       "    <tr>\n",
       "      <th>7</th>\n",
       "      <td>Tomato_healthy</td>\n",
       "      <td>1591</td>\n",
       "      <td>Tomato</td>\n",
       "      <td>healthy</td>\n",
       "    </tr>\n",
       "    <tr>\n",
       "      <th>8</th>\n",
       "      <td>Tomato_Late_blight</td>\n",
       "      <td>1909</td>\n",
       "      <td>Tomato</td>\n",
       "      <td>Late_blight</td>\n",
       "    </tr>\n",
       "    <tr>\n",
       "      <th>9</th>\n",
       "      <td>Tomato_Leaf_Mold</td>\n",
       "      <td>952</td>\n",
       "      <td>Tomato</td>\n",
       "      <td>Leaf_Mold</td>\n",
       "    </tr>\n",
       "    <tr>\n",
       "      <th>10</th>\n",
       "      <td>Tomato_Septoria_leaf_spot</td>\n",
       "      <td>1771</td>\n",
       "      <td>Tomato</td>\n",
       "      <td>Septoria_leaf_spot</td>\n",
       "    </tr>\n",
       "    <tr>\n",
       "      <th>11</th>\n",
       "      <td>Tomato_Spider_mites_Two_spotted_spider_mite</td>\n",
       "      <td>1676</td>\n",
       "      <td>Tomato</td>\n",
       "      <td>Spider_mites_Two_spotted_spider_mite</td>\n",
       "    </tr>\n",
       "    <tr>\n",
       "      <th>12</th>\n",
       "      <td>Tomato__Target_Spot</td>\n",
       "      <td>1404</td>\n",
       "      <td>Tomato</td>\n",
       "      <td>Target_Spot</td>\n",
       "    </tr>\n",
       "    <tr>\n",
       "      <th>13</th>\n",
       "      <td>Tomato__Tomato_mosaic_virus</td>\n",
       "      <td>373</td>\n",
       "      <td>Tomato</td>\n",
       "      <td>Tomato_mosaic_virus</td>\n",
       "    </tr>\n",
       "    <tr>\n",
       "      <th>14</th>\n",
       "      <td>Tomato__Tomato_YellowLeaf__Curl_Virus</td>\n",
       "      <td>3209</td>\n",
       "      <td>Tomato</td>\n",
       "      <td>Tomato_YellowLeaf__Curl_Virus</td>\n",
       "    </tr>\n",
       "  </tbody>\n",
       "</table>\n",
       "</div>"
      ],
      "text/plain": [
       "                                          label  count    type  \\\n",
       "0                 Pepper__bell___Bacterial_spot    997  Pepper   \n",
       "1                        Pepper__bell___healthy   1478  Pepper   \n",
       "2                         Potato___Early_blight   1000  Potato   \n",
       "3                              Potato___healthy    152  Potato   \n",
       "4                          Potato___Late_blight   1000  Potato   \n",
       "5                         Tomato_Bacterial_spot   2127  Tomato   \n",
       "6                           Tomato_Early_blight   1000  Tomato   \n",
       "7                                Tomato_healthy   1591  Tomato   \n",
       "8                            Tomato_Late_blight   1909  Tomato   \n",
       "9                              Tomato_Leaf_Mold    952  Tomato   \n",
       "10                    Tomato_Septoria_leaf_spot   1771  Tomato   \n",
       "11  Tomato_Spider_mites_Two_spotted_spider_mite   1676  Tomato   \n",
       "12                          Tomato__Target_Spot   1404  Tomato   \n",
       "13                  Tomato__Tomato_mosaic_virus    373  Tomato   \n",
       "14        Tomato__Tomato_YellowLeaf__Curl_Virus   3209  Tomato   \n",
       "\n",
       "                                 disease  \n",
       "0                         Bacterial_spot  \n",
       "1                                healthy  \n",
       "2                           Early_blight  \n",
       "3                                healthy  \n",
       "4                            Late_blight  \n",
       "5                         Bacterial_spot  \n",
       "6                           Early_blight  \n",
       "7                                healthy  \n",
       "8                            Late_blight  \n",
       "9                              Leaf_Mold  \n",
       "10                    Septoria_leaf_spot  \n",
       "11  Spider_mites_Two_spotted_spider_mite  \n",
       "12                           Target_Spot  \n",
       "13                   Tomato_mosaic_virus  \n",
       "14         Tomato_YellowLeaf__Curl_Virus  "
      ]
     },
     "execution_count": 63,
     "metadata": {},
     "output_type": "execute_result"
    }
   ],
   "source": [
    "def clean_names(name):\n",
    "    if \"Pepper__bell___\" in name:\n",
    "        return name.split(\"Pepper__bell___\")[1]\n",
    "    elif \"Potato___\" in name:\n",
    "        return name.split(\"Potato___\")[1]\n",
    "    elif \"Tomato__\" in name:\n",
    "        return name.split(\"Tomato__\")[1]\n",
    "    elif \"Tomato_\" in name and \"Tomato__\" not in name:\n",
    "        return name.split(\"Tomato_\")[1]\n",
    "    else:\n",
    "        return name\n",
    "\n",
    "df = pd.DataFrame.from_dict(data_count)\n",
    "\n",
    "df[\"type\"] = df[\"label\"].apply(lambda x: x.split(\"_\")[0])\n",
    "df[\"disease\"] = df[\"label\"].apply(clean_names)\n",
    "\n",
    "df.head(15)"
   ]
  },
  {
   "cell_type": "code",
   "execution_count": 66,
   "id": "685c96a1",
   "metadata": {},
   "outputs": [
    {
     "data": {
      "image/png": "[encoded data removed]",
      "text/plain": [
       "<Figure size 1080x576 with 1 Axes>"
      ]
     },
     "metadata": {
      "needs_background": "light"
     },
     "output_type": "display_data"
    }
   ],
   "source": [
    "plt.figure(figsize=(15,8))\n",
    "sns.barplot(x=\"label\", y=\"count\", data=df)\n",
    "plt.xticks(rotation=90);"
   ]
  },
  {
   "cell_type": "code",
   "execution_count": 67,
   "id": "014fea7c",
   "metadata": {},
   "outputs": [
    {
     "data": {
      "text/plain": [
       "<AxesSubplot:xlabel='type', ylabel='count'>"
      ]
     },
     "execution_count": 67,
     "metadata": {},
     "output_type": "execute_result"
    },
    {
     "data": {
      "image/png": "[encoded data removed]",
      "text/plain": [
       "<Figure size 432x288 with 1 Axes>"
      ]
     },
     "metadata": {
      "needs_background": "light"
     },
     "output_type": "display_data"
    }
   ],
   "source": [
    "sns.barplot(x=\"type\", y=\"count\", data=df)"
   ]
  },
  {
   "cell_type": "code",
   "execution_count": 69,
   "id": "286b95dd",
   "metadata": {},
   "outputs": [],
   "source": [
    "import tensorflow as tf\n",
    "from tensorflow.keras.preprocessing.image import ImageDataGenerator"
   ]
  },
  {
   "cell_type": "code",
   "execution_count": 159,
   "id": "d8f77bf6",
   "metadata": {},
   "outputs": [
    {
     "name": "stdout",
     "output_type": "stream",
     "text": [
      "Found 952 images belonging to 1 classes.\n"
     ]
    }
   ],
   "source": [
    "def augment_and_save(directory, files_path, config):\n",
    "    datagen = ImageDataGenerator(**config)\n",
    "    generator = datagen.flow_from_directory(\n",
    "        files_path, \n",
    "        batch_size=1,\n",
    "        class_mode=\"sparse\",\n",
    "        save_to_dir=directory,\n",
    "    )\n",
    "    dummy_model = tf.keras.Sequential([\n",
    "        tf.keras.layers.Conv2D(64, (3, 3), activation=\"relu\"),\n",
    "        tf.keras.layers.MaxPooling2D((2, 2)),\n",
    "        tf.keras.layers.Flatten(),\n",
    "        tf.keras.layers.Dense(1, activation=\"softmax\")\n",
    "    ])\n",
    "    dummy_model.compile(optimizer=\"sgd\", loss=\"sparse_categorical_crossentropy\", metrics=[\"acc\"])\n",
    "    dummy_model.fit(generator, epochs=1, batch_size=1)\n",
    "    return True"
   ]
  },
  {
   "cell_type": "code",
   "execution_count": 161,
   "id": "7e831707",
   "metadata": {},
   "outputs": [],
   "source": [
    "def get_current_df():\n",
    "    class_type_count_1 = {}\n",
    "\n",
    "    for dir_name in categories:\n",
    "        file_count = len(os.listdir(os.path.join(dataset_path, dir_name)))\n",
    "        class_type_count_1[dir_name] = file_count\n",
    "\n",
    "    data_count_1 = {\"label\": [], \"count\": []}\n",
    "\n",
    "    for c, n in class_type_count_1.items():\n",
    "        data_count_1[\"label\"].append(c)\n",
    "        data_count_1[\"count\"].append(n)\n",
    "    df_1 = pd.DataFrame.from_dict(data_count_1)\n",
    "\n",
    "    df_1[\"type\"] = df_1[\"label\"].apply(lambda x: x.split(\"_\")[0])\n",
    "    df_1[\"disease\"] = df_1[\"label\"].apply(clean_names)\n",
    "    \n",
    "    return df_1"
   ]
  },
  {
   "cell_type": "code",
   "execution_count": 190,
   "id": "03134d0f",
   "metadata": {},
   "outputs": [],
   "source": [
    "exceptions = [\"Pepper__bell___healthy\", \"Tomato__Target_Spot\", \"Tomato_healthy\" \"Tomato__Tomato_mosaic_virus\"]\n",
    "\n",
    "count_to_rem = 500\n",
    "\n",
    "for t in os.listdir(dataset_path):\n",
    "    if t not in exceptions:\n",
    "        to_delete = os.listdir(os.path.join(dataset_path, t))[-count_to_rem:]\n",
    "        for f in to_delete:\n",
    "            os.remove(os.path.join(os.path.join(dataset_path, t), f))"
   ]
  },
  {
   "cell_type": "code",
   "execution_count": 194,
   "id": "f0e1f531",
   "metadata": {},
   "outputs": [],
   "source": [
    "targets = [\"Tomato__Tomato_YellowLeaf__Curl_Virus\"]\n",
    "\n",
    "count_to_rem = 1100\n",
    "\n",
    "for t in os.listdir(dataset_path):\n",
    "    if t in targets:\n",
    "        to_delete = os.listdir(os.path.join(dataset_path, t))[-count_to_rem:]\n",
    "        for f in to_delete:\n",
    "            os.remove(os.path.join(os.path.join(dataset_path, t), f))"
   ]
  },
  {
   "cell_type": "code",
   "execution_count": 195,
   "id": "1620b493",
   "metadata": {},
   "outputs": [
    {
     "data": {
      "image/png": "[encoded data removed]",
      "text/plain": [
       "<Figure size 1080x576 with 1 Axes>"
      ]
     },
     "metadata": {
      "needs_background": "light"
     },
     "output_type": "display_data"
    }
   ],
   "source": [
    "df_1 = get_current_df()\n",
    "\n",
    "plt.figure(figsize=(15,8))\n",
    "sns.barplot(x=\"label\", y=\"count\", data=df_1)\n",
    "plt.xticks(rotation=90);"
   ]
  },
  {
   "cell_type": "code",
   "execution_count": null,
   "id": "92a1d540",
   "metadata": {},
   "outputs": [],
   "source": []
  }
 ],
 "metadata": {
  "kernelspec": {
   "display_name": "Python 3 (ipykernel)",
   "language": "python",
   "name": "python3"
  },
  "language_info": {
   "codemirror_mode": {
    "name": "ipython",
    "version": 3
   },
   "file_extension": ".py",
   "mimetype": "text/x-python",
   "name": "python",
   "nbconvert_exporter": "python",
   "pygments_lexer": "ipython3",
   "version": "3.10.5"
  }
 },
 "nbformat": 4,
 "nbformat_minor": 5
}
